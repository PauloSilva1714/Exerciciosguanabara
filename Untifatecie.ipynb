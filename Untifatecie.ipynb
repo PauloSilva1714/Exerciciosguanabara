{
  "nbformat": 4,
  "nbformat_minor": 0,
  "metadata": {
    "colab": {
      "provenance": [],
      "authorship_tag": "ABX9TyPbXx9b1MJetxzzw9t+uD/+",
      "include_colab_link": true
    },
    "kernelspec": {
      "name": "python3",
      "display_name": "Python 3"
    },
    "language_info": {
      "name": "python"
    }
  },
  "cells": [
    {
      "cell_type": "markdown",
      "metadata": {
        "id": "view-in-github",
        "colab_type": "text"
      },
      "source": [
        "<a href=\"https://colab.research.google.com/github/PauloSilva1714/Exerciciosguanabara/blob/main/Untifatecie.ipynb\" target=\"_parent\"><img src=\"https://colab.research.google.com/assets/colab-badge.svg\" alt=\"Open In Colab\"/></a>"
      ]
    },
    {
      "cell_type": "markdown",
      "source": [
        "## Revisão"
      ],
      "metadata": {
        "id": "NNFXn2XgEGOV"
      }
    },
    {
      "cell_type": "markdown",
      "source": [
        "#### If (Condicional)"
      ],
      "metadata": {
        "id": "7pbF7vs5Ehsp"
      }
    },
    {
      "cell_type": "code",
      "source": [
        "temperatura = 25\n",
        "\n",
        "if temperatura >= 25:\n",
        "  print(\"Ar Condicinanado Ligado\")\n",
        "else:\n",
        "  print(\"Ar Condicionado Desligado\")"
      ],
      "metadata": {
        "id": "cU2uSUEzDrCV",
        "colab": {
          "base_uri": "https://localhost:8080/"
        },
        "outputId": "87d501cb-181c-4dcb-e3e4-d5a2ab2c88fd"
      },
      "execution_count": null,
      "outputs": [
        {
          "output_type": "stream",
          "name": "stdout",
          "text": [
            "Ar Condicinanado Ligado\n"
          ]
        }
      ]
    },
    {
      "cell_type": "markdown",
      "source": [
        "IMC"
      ],
      "metadata": {
        "id": "Ym2jmYbsNR1T"
      }
    },
    {
      "cell_type": "code",
      "source": [
        "altura = 1.60\n",
        "peso = 60\n",
        "imc = peso / altura**2\n",
        "\n",
        "print(\"Seu IMC é: %.2f\" %imc)\n",
        "\n",
        "if imc < 18.5:\n",
        "  print(\"Magro\")\n",
        "elif imc >18.5 and imc < 25:\n",
        "  print(\"Saudável\")\n",
        "elif imc >=25 and imc < 30:\n",
        "  print(\"Obeso\")\n"
      ],
      "metadata": {
        "colab": {
          "base_uri": "https://localhost:8080/"
        },
        "id": "5nQz8PiTDy0w",
        "outputId": "c6c23bff-7775-44fd-e528-a16e6d760cf4"
      },
      "execution_count": null,
      "outputs": [
        {
          "output_type": "stream",
          "name": "stdout",
          "text": [
            "Seu IMC é: 23.44\n",
            "Saudável\n"
          ]
        }
      ]
    },
    {
      "cell_type": "markdown",
      "source": [],
      "metadata": {
        "id": "Vlyc7whHMnaM"
      }
    },
    {
      "cell_type": "code",
      "source": [
        "nota = 9\n",
        "\n",
        "if(nota > 8):\n",
        "  print(\"Perfeito\")\n",
        "elif(nota >5):\n",
        "  print(\"Aprovado\")\n",
        "elif (nota >=3 and nota < 5):\n",
        "  print(\"Recuperação\")\n",
        "else:\n",
        "  print(\"Reprovado\")"
      ],
      "metadata": {
        "id": "ztJSCGBoDzN1",
        "colab": {
          "base_uri": "https://localhost:8080/"
        },
        "outputId": "df96acbb-0569-413b-beb6-289983563c14"
      },
      "execution_count": null,
      "outputs": [
        {
          "output_type": "stream",
          "name": "stdout",
          "text": [
            "Perfeito\n"
          ]
        }
      ]
    },
    {
      "cell_type": "markdown",
      "source": [
        "While (Laço de Repetição)"
      ],
      "metadata": {
        "id": "yAtMnunUMHov"
      }
    },
    {
      "cell_type": "code",
      "source": [
        "i = 1\n",
        "\n",
        "while i <= 6:\n",
        "  print(i)\n",
        "  i+=1       #  i + i Incremento"
      ],
      "metadata": {
        "colab": {
          "base_uri": "https://localhost:8080/"
        },
        "id": "yfKWzL5-qKc_",
        "outputId": "1a688cd1-5683-4310-c059-99ebb3db6d44"
      },
      "execution_count": null,
      "outputs": [
        {
          "output_type": "stream",
          "name": "stdout",
          "text": [
            "1\n",
            "2\n",
            "3\n",
            "4\n",
            "5\n",
            "6\n"
          ]
        }
      ]
    },
    {
      "cell_type": "markdown",
      "source": [
        "###  FOR (Laço de repetição contada)"
      ],
      "metadata": {
        "id": "-addjbU8PZ8C"
      }
    },
    {
      "cell_type": "code",
      "source": [
        "numeros = [0,1,2,3,4] # Lista"
      ],
      "metadata": {
        "id": "kp_cU5SpLz06"
      },
      "execution_count": null,
      "outputs": []
    },
    {
      "cell_type": "code",
      "source": [
        "numeros"
      ],
      "metadata": {
        "colab": {
          "base_uri": "https://localhost:8080/"
        },
        "id": "cc8O9PSKQOrb",
        "outputId": "23519ffa-d201-4b42-8a45-e73bbcd820a8"
      },
      "execution_count": null,
      "outputs": [
        {
          "output_type": "execute_result",
          "data": {
            "text/plain": [
              "[0, 1, 2, 3, 4]"
            ]
          },
          "metadata": {},
          "execution_count": 5
        }
      ]
    },
    {
      "cell_type": "code",
      "source": [],
      "metadata": {
        "id": "ezhdThf3CMuQ"
      },
      "execution_count": null,
      "outputs": []
    },
    {
      "cell_type": "code",
      "source": [
        "type(numeros)"
      ],
      "metadata": {
        "colab": {
          "base_uri": "https://localhost:8080/"
        },
        "id": "vWhGECeDQVuQ",
        "outputId": "c688979f-86a0-426b-ec21-5d9199fe8bc5"
      },
      "execution_count": null,
      "outputs": [
        {
          "output_type": "execute_result",
          "data": {
            "text/plain": [
              "list"
            ]
          },
          "metadata": {},
          "execution_count": 6
        }
      ]
    },
    {
      "cell_type": "code",
      "source": [
        "i = 0\n",
        "for i in range(5):\n",
        "  print(i)"
      ],
      "metadata": {
        "colab": {
          "base_uri": "https://localhost:8080/"
        },
        "id": "wt94qeBWQlU5",
        "outputId": "1487f3ce-e814-46d1-d87d-4cd955769865"
      },
      "execution_count": null,
      "outputs": [
        {
          "output_type": "stream",
          "name": "stdout",
          "text": [
            "0\n",
            "1\n",
            "2\n",
            "3\n",
            "4\n"
          ]
        }
      ]
    },
    {
      "cell_type": "code",
      "source": [
        "range(5)"
      ],
      "metadata": {
        "colab": {
          "base_uri": "https://localhost:8080/"
        },
        "id": "iPuyn0ACAFqR",
        "outputId": "bc809897-7397-43db-be98-211c650c39ae"
      },
      "execution_count": null,
      "outputs": [
        {
          "output_type": "execute_result",
          "data": {
            "text/plain": [
              "range(0, 5)"
            ]
          },
          "metadata": {},
          "execution_count": 6
        }
      ]
    },
    {
      "cell_type": "code",
      "source": [
        "list(range(5))"
      ],
      "metadata": {
        "colab": {
          "base_uri": "https://localhost:8080/"
        },
        "id": "0V34ZHBDCV9O",
        "outputId": "df68f2df-489a-450f-9102-a5ffa80e60c5"
      },
      "execution_count": null,
      "outputs": [
        {
          "output_type": "execute_result",
          "data": {
            "text/plain": [
              "[0, 1, 2, 3, 4]"
            ]
          },
          "metadata": {},
          "execution_count": 7
        }
      ]
    },
    {
      "cell_type": "code",
      "source": [
        "for i in range(5):\n",
        "  print(i)"
      ],
      "metadata": {
        "colab": {
          "base_uri": "https://localhost:8080/"
        },
        "id": "Lmf84TNLCecY",
        "outputId": "2ca05e1c-8cc3-483c-a35b-7ba5650028ed"
      },
      "execution_count": null,
      "outputs": [
        {
          "output_type": "stream",
          "name": "stdout",
          "text": [
            "0\n",
            "1\n",
            "2\n",
            "3\n",
            "4\n"
          ]
        }
      ]
    },
    {
      "cell_type": "code",
      "source": [
        "for i in \"banana\":\n",
        "  print(i)"
      ],
      "metadata": {
        "colab": {
          "base_uri": "https://localhost:8080/"
        },
        "id": "AKnMjlkHRGaV",
        "outputId": "1c544f73-6017-4d5c-ce23-c834f049123d"
      },
      "execution_count": null,
      "outputs": [
        {
          "output_type": "stream",
          "name": "stdout",
          "text": [
            "b\n",
            "a\n",
            "n\n",
            "a\n",
            "n\n",
            "a\n"
          ]
        }
      ]
    },
    {
      "cell_type": "code",
      "source": [
        "frutas = [\"banana\", \"abacate\", \"laranja\"]\n",
        "frutas"
      ],
      "metadata": {
        "colab": {
          "base_uri": "https://localhost:8080/"
        },
        "id": "34nyO-DKC8l9",
        "outputId": "49d07d84-9d84-4173-e8c1-f2a2e524cf95"
      },
      "execution_count": null,
      "outputs": [
        {
          "output_type": "execute_result",
          "data": {
            "text/plain": [
              "['banana', 'abacate', 'laranja']"
            ]
          },
          "metadata": {},
          "execution_count": 13
        }
      ]
    },
    {
      "cell_type": "code",
      "source": [
        "for x in frutas:\n",
        "  print(x)\n",
        "  if x == \"banana\":\n",
        "    print(\"Achei e esta na posição\", frutas.index(x))\n",
        "    break  #força a saida da Repetição"
      ],
      "metadata": {
        "colab": {
          "base_uri": "https://localhost:8080/"
        },
        "id": "rAojC7UtEWSX",
        "outputId": "1b8f66a4-5dae-4d9e-bb09-0bc2a287014a"
      },
      "execution_count": null,
      "outputs": [
        {
          "output_type": "stream",
          "name": "stdout",
          "text": [
            "banana\n",
            "Achei e esta na posição 0\n"
          ]
        }
      ]
    },
    {
      "cell_type": "markdown",
      "source": [
        "## Teste de Mesa ou Trace Table"
      ],
      "metadata": {
        "id": "Tr_Rzs0QSLnY"
      }
    },
    {
      "cell_type": "markdown",
      "source": [
        "## Programa: Soma os números pares 0-10"
      ],
      "metadata": {
        "id": "v1Ja4_ZlPHZn"
      }
    },
    {
      "cell_type": "code",
      "source": [
        "0 + 2 + 4 + 6 + 8 + 10"
      ],
      "metadata": {
        "colab": {
          "base_uri": "https://localhost:8080/"
        },
        "id": "UFcZndM7Ohpj",
        "outputId": "6b739b41-1fa2-4b6e-9b88-bd2d5a988e70"
      },
      "execution_count": null,
      "outputs": [
        {
          "output_type": "execute_result",
          "data": {
            "text/plain": [
              "30"
            ]
          },
          "metadata": {},
          "execution_count": 19
        }
      ]
    },
    {
      "cell_type": "code",
      "source": [
        "soma = 0\n",
        "\n",
        "for numero in range(11):\n",
        "  if (numero % 2) == 0: #resto da divisão\n",
        "    soma += numero\n",
        "  print(\"numero: \", numero)\n",
        "  print(\"soma: \", soma)\n",
        "print(\"Resultado: \", soma)\n",
        "\n"
      ],
      "metadata": {
        "id": "_gT9pwTUP3Ik",
        "colab": {
          "base_uri": "https://localhost:8080/"
        },
        "outputId": "ce0a64ff-778b-4c89-8f39-45464251d873"
      },
      "execution_count": null,
      "outputs": [
        {
          "output_type": "stream",
          "name": "stdout",
          "text": [
            "numero:  0\n",
            "soma:  0\n",
            "numero:  1\n",
            "soma:  0\n",
            "numero:  2\n",
            "soma:  2\n",
            "numero:  3\n",
            "soma:  2\n",
            "numero:  4\n",
            "soma:  6\n",
            "numero:  5\n",
            "soma:  6\n",
            "numero:  6\n",
            "soma:  12\n",
            "numero:  7\n",
            "soma:  12\n",
            "numero:  8\n",
            "soma:  20\n",
            "numero:  9\n",
            "soma:  20\n",
            "numero:  10\n",
            "soma:  30\n",
            "Resultado:  30\n"
          ]
        }
      ]
    },
    {
      "cell_type": "code",
      "source": [
        "list(range(25))"
      ],
      "metadata": {
        "colab": {
          "base_uri": "https://localhost:8080/"
        },
        "id": "A8AxvDPeWccU",
        "outputId": "4e337966-ce70-4559-9c79-b69eda0f4206"
      },
      "execution_count": null,
      "outputs": [
        {
          "output_type": "execute_result",
          "data": {
            "text/plain": [
              "[0,\n",
              " 1,\n",
              " 2,\n",
              " 3,\n",
              " 4,\n",
              " 5,\n",
              " 6,\n",
              " 7,\n",
              " 8,\n",
              " 9,\n",
              " 10,\n",
              " 11,\n",
              " 12,\n",
              " 13,\n",
              " 14,\n",
              " 15,\n",
              " 16,\n",
              " 17,\n",
              " 18,\n",
              " 19,\n",
              " 20,\n",
              " 21,\n",
              " 22,\n",
              " 23,\n",
              " 24]"
            ]
          },
          "metadata": {},
          "execution_count": 6
        }
      ]
    },
    {
      "cell_type": "code",
      "source": [],
      "metadata": {
        "id": "5cQPubrOZeoA"
      },
      "execution_count": null,
      "outputs": []
    },
    {
      "cell_type": "markdown",
      "source": [
        "Faça um programa que diga seu nome sua idade altura e seu peso\n"
      ],
      "metadata": {
        "id": "PCyOzP1i2YNA"
      }
    },
    {
      "cell_type": "code",
      "source": [
        "Nome = input('digite seu nome: ')\n",
        "Idade = input('Digite sua idade: ')\n",
        "Altura = input('Digite sua altura: ')\n",
        "Peso = input('Digite seu peso: ')\n",
        "print(f'É um prazer te conhecer: {Nome} \\nIdade: {Idade} \\nAltura: {Altura}\\nPeso: {Peso} ')"
      ],
      "metadata": {
        "colab": {
          "base_uri": "https://localhost:8080/"
        },
        "id": "lpanHMzR2iUl",
        "outputId": "5b9cc5d3-323b-4b30-b3e8-6150a51a270e"
      },
      "execution_count": 4,
      "outputs": [
        {
          "output_type": "stream",
          "name": "stdout",
          "text": [
            "digite seu nome: Paulo\n",
            "Digite sua idade: 38\n",
            "Digite sua altura: 61\n",
            "Digite seu peso: \n",
            "É um prazer te conhecer: Paulo \n",
            "Idade: 38 \n",
            "Altura: 61\n",
            "Peso:  \n"
          ]
        }
      ]
    },
    {
      "cell_type": "code",
      "source": [],
      "metadata": {
        "id": "dbcyAR8g4Vi_"
      },
      "execution_count": null,
      "outputs": []
    },
    {
      "cell_type": "markdown",
      "source": [
        "Faça um programa que leia a ordem dos alunos e mostre a ordem sorteada"
      ],
      "metadata": {
        "id": "byXWQgpg8o2Y"
      }
    },
    {
      "cell_type": "code",
      "source": [
        "from random import shuffle\n",
        "N1 = input('Primeiro aluno: ')\n",
        "N2 = input('Segundo aluno: ')\n",
        "N3 = input('Terceiro aluno: ')\n",
        "N4 = input('Quarto aluno: ')\n",
        "lista = [N1, N2, N3, N4]\n",
        "shuffle(lista)\n",
        "print(f'A ordem de apresentação será{lista}')"
      ],
      "metadata": {
        "colab": {
          "base_uri": "https://localhost:8080/"
        },
        "id": "770gQ-C782YF",
        "outputId": "8399cccc-b6c0-4132-d283-e1792374a756"
      },
      "execution_count": 10,
      "outputs": [
        {
          "output_type": "stream",
          "name": "stdout",
          "text": [
            "Primeiro aluno: p\n",
            "Segundo aluno: k\n",
            "Terceiro aluno: h\n",
            "Quarto aluno: f\n",
            "A ordem de apresentação será['h', 'k', 'p', 'f']\n"
          ]
        }
      ]
    },
    {
      "cell_type": "code",
      "source": [],
      "metadata": {
        "id": "nPUWKHdx-SHK"
      },
      "execution_count": null,
      "outputs": []
    }
  ]
}